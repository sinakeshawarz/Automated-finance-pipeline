{
  "nbformat": 4,
  "nbformat_minor": 0,
  "metadata": {
    "colab": {
      "provenance": [],
      "machine_shape": "hm",
      "authorship_tag": "ABX9TyP1anrLtDDW+qCSi2NIpwg+",
      "include_colab_link": true
    },
    "kernelspec": {
      "name": "python3",
      "display_name": "Python 3"
    },
    "language_info": {
      "name": "python"
    }
  },
  "cells": [
    {
      "cell_type": "markdown",
      "metadata": {
        "id": "view-in-github",
        "colab_type": "text"
      },
      "source": [
        "<a href=\"https://colab.research.google.com/github/sinakeshawarz/Automated-finance-pipeline/blob/main/Untitled20.ipynb\" target=\"_parent\"><img src=\"https://colab.research.google.com/assets/colab-badge.svg\" alt=\"Open In Colab\"/></a>"
      ]
    },
    {
      "cell_type": "code",
      "execution_count": 1,
      "metadata": {
        "colab": {
          "base_uri": "https://localhost:8080/"
        },
        "id": "WkMulPYSU3bH",
        "outputId": "27e2b033-14d9-4ac8-a31b-e05bdf9d9342"
      },
      "outputs": [
        {
          "output_type": "stream",
          "name": "stdout",
          "text": [
            "Requirement already satisfied: yfinance in /usr/local/lib/python3.11/dist-packages (0.2.65)\n",
            "Requirement already satisfied: pandas in /usr/local/lib/python3.11/dist-packages (2.2.2)\n",
            "Requirement already satisfied: numpy>=1.16.5 in /usr/local/lib/python3.11/dist-packages (from yfinance) (2.0.2)\n",
            "Requirement already satisfied: requests>=2.31 in /usr/local/lib/python3.11/dist-packages (from yfinance) (2.32.3)\n",
            "Requirement already satisfied: multitasking>=0.0.7 in /usr/local/lib/python3.11/dist-packages (from yfinance) (0.0.12)\n",
            "Requirement already satisfied: platformdirs>=2.0.0 in /usr/local/lib/python3.11/dist-packages (from yfinance) (4.3.8)\n",
            "Requirement already satisfied: pytz>=2022.5 in /usr/local/lib/python3.11/dist-packages (from yfinance) (2025.2)\n",
            "Requirement already satisfied: frozendict>=2.3.4 in /usr/local/lib/python3.11/dist-packages (from yfinance) (2.4.6)\n",
            "Requirement already satisfied: peewee>=3.16.2 in /usr/local/lib/python3.11/dist-packages (from yfinance) (3.18.2)\n",
            "Requirement already satisfied: beautifulsoup4>=4.11.1 in /usr/local/lib/python3.11/dist-packages (from yfinance) (4.13.4)\n",
            "Requirement already satisfied: curl_cffi>=0.7 in /usr/local/lib/python3.11/dist-packages (from yfinance) (0.13.0)\n",
            "Requirement already satisfied: protobuf>=3.19.0 in /usr/local/lib/python3.11/dist-packages (from yfinance) (5.29.5)\n",
            "Requirement already satisfied: websockets>=13.0 in /usr/local/lib/python3.11/dist-packages (from yfinance) (15.0.1)\n",
            "Requirement already satisfied: python-dateutil>=2.8.2 in /usr/local/lib/python3.11/dist-packages (from pandas) (2.9.0.post0)\n",
            "Requirement already satisfied: tzdata>=2022.7 in /usr/local/lib/python3.11/dist-packages (from pandas) (2025.2)\n",
            "Requirement already satisfied: soupsieve>1.2 in /usr/local/lib/python3.11/dist-packages (from beautifulsoup4>=4.11.1->yfinance) (2.7)\n",
            "Requirement already satisfied: typing-extensions>=4.0.0 in /usr/local/lib/python3.11/dist-packages (from beautifulsoup4>=4.11.1->yfinance) (4.14.1)\n",
            "Requirement already satisfied: cffi>=1.12.0 in /usr/local/lib/python3.11/dist-packages (from curl_cffi>=0.7->yfinance) (1.17.1)\n",
            "Requirement already satisfied: certifi>=2024.2.2 in /usr/local/lib/python3.11/dist-packages (from curl_cffi>=0.7->yfinance) (2025.8.3)\n",
            "Requirement already satisfied: six>=1.5 in /usr/local/lib/python3.11/dist-packages (from python-dateutil>=2.8.2->pandas) (1.17.0)\n",
            "Requirement already satisfied: charset-normalizer<4,>=2 in /usr/local/lib/python3.11/dist-packages (from requests>=2.31->yfinance) (3.4.2)\n",
            "Requirement already satisfied: idna<4,>=2.5 in /usr/local/lib/python3.11/dist-packages (from requests>=2.31->yfinance) (3.10)\n",
            "Requirement already satisfied: urllib3<3,>=1.21.1 in /usr/local/lib/python3.11/dist-packages (from requests>=2.31->yfinance) (2.5.0)\n",
            "Requirement already satisfied: pycparser in /usr/local/lib/python3.11/dist-packages (from cffi>=1.12.0->curl_cffi>=0.7->yfinance) (2.22)\n"
          ]
        }
      ],
      "source": [
        "!pip install yfinance pandas"
      ]
    },
    {
      "cell_type": "code",
      "source": [
        "import yfinance as yf\n",
        "import pandas as pd\n",
        "from datetime import datetime"
      ],
      "metadata": {
        "id": "5XxFtzXGVOax"
      },
      "execution_count": 2,
      "outputs": []
    },
    {
      "cell_type": "code",
      "source": [
        "# Define the forex pair (EURUSD) and time period\n",
        "ticker = 'EURUSD=X'  # Yahoo symbol for EUR/USD\n",
        "start_date = '2024-01-01'  # Adjust as needed\n",
        "end_date = datetime.today().strftime('%Y-%m-%d')  # Today\n",
        "\n",
        "# Fetch historical data\n",
        "data = yf.download(ticker, start=start_date, end=end_date)\n",
        "print(data.head())  # Preview the data"
      ],
      "metadata": {
        "colab": {
          "base_uri": "https://localhost:8080/"
        },
        "id": "cCaFAYgNVl2x",
        "outputId": "cc45bfbc-a003-4a3f-b304-5527cb075d57"
      },
      "execution_count": 3,
      "outputs": [
        {
          "output_type": "stream",
          "name": "stderr",
          "text": [
            "/tmp/ipython-input-3171139945.py:7: FutureWarning: YF.download() has changed argument auto_adjust default to True\n",
            "  data = yf.download(ticker, start=start_date, end=end_date)\n",
            "[*********************100%***********************]  1 of 1 completed"
          ]
        },
        {
          "output_type": "stream",
          "name": "stdout",
          "text": [
            "Price          Close      High       Low      Open   Volume\n",
            "Ticker      EURUSD=X  EURUSD=X  EURUSD=X  EURUSD=X EURUSD=X\n",
            "Date                                                       \n",
            "2024-01-01  1.105583  1.105339  1.103997  1.105583        0\n",
            "2024-01-02  1.103875  1.104606  1.094200  1.103875        0\n",
            "2024-01-03  1.094176  1.096700  1.089871  1.094176        0\n",
            "2024-01-04  1.092777  1.097021  1.091703  1.092777        0\n",
            "2024-01-05  1.094739  1.099638  1.087985  1.094739        0\n"
          ]
        },
        {
          "output_type": "stream",
          "name": "stderr",
          "text": [
            "\n"
          ]
        }
      ]
    },
    {
      "cell_type": "code",
      "source": [
        "# Calculate daily returns (percentage change in Close price)\n",
        "data['Daily_Return'] = data['Close'].pct_change() * 100\n",
        "\n",
        "# Calculate 50-day simple moving average (SMA)\n",
        "data['50_SMA'] = data['Close'].rolling(window=50).mean()\n",
        "\n",
        "# Drop rows with NaN (e.g., first few for SMA)\n",
        "data = data.dropna()\n",
        "\n",
        "print(data.tail())  # Preview analyzed data"
      ],
      "metadata": {
        "colab": {
          "base_uri": "https://localhost:8080/"
        },
        "id": "ugBWFC0hWLo2",
        "outputId": "78bd5c5f-aedc-49ca-e6f6-4ad7cdafb619"
      },
      "execution_count": 4,
      "outputs": [
        {
          "output_type": "stream",
          "name": "stdout",
          "text": [
            "Price          Close      High       Low      Open   Volume Daily_Return  \\\n",
            "Ticker      EURUSD=X  EURUSD=X  EURUSD=X  EURUSD=X EURUSD=X                \n",
            "Date                                                                       \n",
            "2025-08-06  1.157917  1.164646  1.156511  1.157917        0    -0.042840   \n",
            "2025-08-07  1.166317  1.169536  1.161427  1.166317        0     0.725448   \n",
            "2025-08-08  1.167665  1.167924  1.163075  1.167665        0     0.115600   \n",
            "2025-08-11  1.164795  1.167679  1.159111  1.164795        0    -0.245766   \n",
            "2025-08-12  1.161845  1.169454  1.159931  1.161845        0    -0.253290   \n",
            "\n",
            "Price         50_SMA  \n",
            "Ticker                \n",
            "Date                  \n",
            "2025-08-06  1.159217  \n",
            "2025-08-07  1.160076  \n",
            "2025-08-08  1.160672  \n",
            "2025-08-11  1.161261  \n",
            "2025-08-12  1.161591  \n"
          ]
        }
      ]
    },
    {
      "cell_type": "code",
      "source": [
        "# Save to CSV\n",
        "output_file = 'eurusd_analysis.csv'\n",
        "data.to_csv(output_file)\n",
        "print(f'Saved analysis to {output_file}')"
      ],
      "metadata": {
        "colab": {
          "base_uri": "https://localhost:8080/"
        },
        "id": "9eg8xyvpWa7q",
        "outputId": "6a7d3a25-bf2b-43eb-b0c4-6191525e0d0e"
      },
      "execution_count": 5,
      "outputs": [
        {
          "output_type": "stream",
          "name": "stdout",
          "text": [
            "Saved analysis to eurusd_analysis.csv\n"
          ]
        }
      ]
    }
  ]
}